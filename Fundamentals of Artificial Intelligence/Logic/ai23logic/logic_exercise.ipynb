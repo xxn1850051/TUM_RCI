{
 "cells": [
  {
   "cell_type": "markdown",
   "metadata": {},
   "source": [
    " # Organic-Order 🍇🍅🥕"
   ]
  },
  {
   "cell_type": "markdown",
   "metadata": {},
   "source": [
    "<div class=\"alert alert-info\">\n",
    "    <h3>Please read the following important information before starting with the programming exercise: </h3>\n",
    "    <p>In order to avoid problems with the relative file path we recommend to clone the exercise repository into the <b>homework</b> folder and you will <b>get all provided files</b> in the <b>homework/ai23logic-\"your_TUM_ID\"</b> folder.</p> \n",
    "    <p><b>Only modify</b> the rules.py and <b>Do not</b> change the signatures of functions we provided you!</p>\n",
    "    <p>Changes to other files will be ignored by the tests on Artemis</p>\n",
    "    <p>If we are not able to run your submitted files in an environment with the packages provided by the requirements.txt of the <b><a href=\"https://github.com/aimaTUM/aima-python\">AIMA repository</a></b>, you will fail the programming exercise.</p> \n",
    "</div>"
   ]
  },
  {
   "cell_type": "markdown",
   "metadata": {},
   "source": [
    "# Initialization"
   ]
  },
  {
   "cell_type": "code",
   "execution_count": 1,
   "metadata": {},
   "outputs": [],
   "source": [
    "import os\n",
    "import sys\n",
    "\n",
    "# Importing AIMA tools\n",
    "# If you have not copied the contents of the template directly into the AIMA folder, you can uncomment the next line.\n",
    "sys.path.insert(0, os.path.realpath(\"../../aima-python\"))  # Modify the ./aima to the relative path of your aima folder.\n",
    "# For the docker installation, you can use\n",
    "sys.path.insert(0, os.path.realpath(\"/work\"))\n",
    "# Do not change the rest of this block\n",
    "\n",
    "import numpy as np\n",
    "from field_var import field_var\n",
    "from ask_solution import ask_solution\n",
    "from utils import expr\n",
    "from kb import DpllPropKB\n",
    "from visualize import draw, draw_solution\n",
    "import configurations as confs\n",
    "from rules import OnePlantPerCellConstraint, OneCellPerPlantConstraint, NextToConstraint, NotNextToConstraint, ToTheRightConstraint, ToTheLeftConstraint, IfThenNotNextToConstraint, EitherOrConstraint, IfThenConstraint, InitialLayoutConstraint\n",
    "from generate_knowledge import generate_knowledge\n",
    "\n",
    "KB = DpllPropKB"
   ]
  },
  {
   "cell_type": "markdown",
   "metadata": {},
   "source": [
    "# Introduction"
   ]
  },
  {
   "cell_type": "markdown",
   "metadata": {},
   "source": [
    "### Problem Description\n",
    "\n",
    "[Organic Order](https://www.lumosity.com/en/brain-games/organic-order/) is a brain-training game developed by Lumosity, it focuses on logical reasoning by arranging fruits or vegetables in a specific order, following explicit stated rules and implicit ones inferred through observation and deduction.\n",
    "\n",
    "The initial configuration is given as a list of strings. This list has length x, corresponding to the x organic elements that may be involved in this scenario. The elements of the list specify the initial positions of certain elements. For example, `['Carrot','*','Grape','*','*']` represents the following initial ordering: TODO (image)\n",
    "\n",
    "Additionally, a list of logical statements are given; from these rules, implicit rules have to be deduced. The goal is to assign a position to each plant into the initial layout while following all given rules. This is achieved by filling a knowledge base with logical sentences.\n",
    "\n",
    "### Passing the exercise\n",
    "You will have passed the exercise if you can successfully solve all **4 general** and **7 rule-specific scenarios** that are given to you together with this template. Additionally, your code also has to solve **2 hidden scenarios**, that are only available on Artemis. \n",
    "\n",
    "_Note: you cannot solve this exercise by hardcoding the solutions for the scenarios given in this template. In order to also solve the scenarios hidden on Artemis, you need to implement the knowledge base with logical sentences in a correct way._\n",
    "\n",
    "If your implemented function computes the knowledge base such that every scenario is solved correctly (including the hidden ones), you successfully completed this programming exercise. Your code has to compute a valid solution for **each** of the scenarios **within 5 min** on our machine. If your code takes longer to compute a solution, you will fail this submission. Don't worry about the computation time too much as usually the algorithm produces a solution **within two minutes** for our specific exercise. Your submission will be evaluated after the deadline, but until then you can update your solution as many times as you like. The last submitted solution will be graded."
   ]
  },
  {
   "cell_type": "markdown",
   "metadata": {},
   "source": [
    "\n",
    "# Visualization\n",
    "\n",
    "For this exercise, several initial layouts and sets of rules are given. Each layout is represented as a list. The i-th entry of this array corresponds to the (i+1)-th field on the map, so **init_layout[0]** is the **1st** and leftmost cell. Each layout can have different sizes ranging from 4 to 6."
   ]
  },
  {
   "cell_type": "markdown",
   "metadata": {},
   "source": [
    "**The layout is an array of the following elements, presenting either an empty cell or a type of plant.**\n",
    "\n",
    "- **'*'** means that the cell is empty\n",
    "- **'C'** denotes Carrot\n",
    "- **'T'** denotes Tomato\n",
    "- **'B'** denotes Berries\n",
    "- **'G'** denotes Grape\n",
    "- **'P'** denotes Peas\n",
    "- **'Cn'** denotes Corn"
   ]
  },
  {
   "cell_type": "markdown",
   "metadata": {},
   "source": [
    "In order to visualize the layout you can use the following function:"
   ]
  },
  {
   "cell_type": "code",
   "execution_count": 2,
   "metadata": {},
   "outputs": [
    {
     "name": "stdout",
     "output_type": "stream",
     "text": [
      "The initial layout :\n",
      "* | * | Peas | * | *\n"
     ]
    }
   ],
   "source": [
    "# You can choose an initial configuration by setting the variable conf_index (possible values: 1 to 11)\n",
    "conf_index = 1\n",
    "init_layout = getattr(confs, \"layout\" + str(conf_index))\n",
    "rule_list = getattr(confs, \"rules\" + str(conf_index))\n",
    "to_be_assigned = getattr(confs, \"to_be_assigned\" + str(conf_index))\n",
    "exact_solution = getattr(confs, \"solution\" + str(conf_index))\n",
    "\n",
    "# init_layout is a list consisting the placement of given plants: \n",
    "print(f'The initial layout :\\n{draw(init_layout)}')"
   ]
  },
  {
   "cell_type": "code",
   "execution_count": null,
   "metadata": {},
   "outputs": [],
   "source": [
    "# You can access cell elements x with init_layout[x-1]\n",
    "x = 2\n",
    "print(f'The element at position {x} is', init_layout[x - 1])"
   ]
  },
  {
   "cell_type": "markdown",
   "metadata": {},
   "source": [
    "# Knowledge Base generation"
   ]
  },
  {
   "cell_type": "markdown",
   "metadata": {},
   "source": [
    "## Atomic sentences"
   ]
  },
  {
   "cell_type": "markdown",
   "metadata": {},
   "source": [
    "Your task is to implement the knowledge base that covers all implicit logical constraints inferred from the rules and initial layout. To represent the placement of an organic element, use one of the five predicates as shown below:"
   ]
  },
  {
   "cell_type": "code",
   "execution_count": null,
   "metadata": {
    "scrolled": true
   },
   "outputs": [],
   "source": [
    "# Formalization of the sentence 'Peas is in cell 1':\n",
    "field_var(fruit=\"Peas\", loc=1)"
   ]
  },
  {
   "cell_type": "code",
   "execution_count": null,
   "metadata": {},
   "outputs": [],
   "source": [
    "# Formalization of the sentence 'Berries is in cell 5':\n",
    "field_var(fruit=\"Berries\", loc=5)"
   ]
  },
  {
   "cell_type": "code",
   "execution_count": null,
   "metadata": {},
   "outputs": [],
   "source": [
    "# Formalization of the sentence 'Grape is in cell 4':':\n",
    "field_var(fruit=\"Grape\", loc=4)"
   ]
  },
  {
   "cell_type": "code",
   "execution_count": null,
   "metadata": {},
   "outputs": [],
   "source": [
    "# Formalization of the sentence 'Carrot is in cell 3':\n",
    "field_var(fruit=\"Carrot\", loc=3)"
   ]
  },
  {
   "cell_type": "code",
   "execution_count": null,
   "metadata": {},
   "outputs": [],
   "source": [
    "# Formalization of the sentence 'Tomato is in cell 2':\n",
    "field_var(fruit=\"Tomato\", loc=2)"
   ]
  },
  {
   "cell_type": "code",
   "execution_count": null,
   "metadata": {},
   "outputs": [],
   "source": [
    "# Formalization of the sentence 'Corn is in cell 1':\n",
    "field_var(fruit=\"Corn\", loc=1)"
   ]
  },
  {
   "cell_type": "markdown",
   "metadata": {},
   "source": [
    "## Telling and asking about the knowledge base"
   ]
  },
  {
   "cell_type": "markdown",
   "metadata": {},
   "source": [
    "With the atomic sentences introduced above, you should construct correct logical sentences that can be used to infer the ordering of the plants. Below you will find an example detailing the notation you can use to construct such sentences, and how to add them to the knowledge base. _**Note:**_ The next logical sentences are **only** meant to illustrate the notation, and **do not** necessarily reflect real scenarios or solutions.\n"
   ]
  },
  {
   "cell_type": "code",
   "execution_count": null,
   "metadata": {},
   "outputs": [],
   "source": [
    "# Notation you can use:\n",
    "# &     Logical AND\n",
    "# |     Logical OR\n",
    "# ~     Negation\n",
    "# ==>   Implication\n",
    "# <==   Reverse Implication\n",
    "# <=>   Equivalence\n",
    "# (...) Parentheses\n",
    "\n",
    "# Example of a simple knowledge base construction\n",
    "# Create an empty knowledge base\n",
    "kb = KB()\n",
    "\n",
    "# Formalize the sentences\n",
    "# 'Grape is in cell 2'\n",
    "# 'Carrot is in cell 4'\n",
    "# 'Tomato is not in cell 1'\n",
    "sentence1 = field_var(fruit=\"Grape\", loc=2)\n",
    "sentence2 = field_var(fruit=\"Carrot\", loc=4)\n",
    "sentence3 = f'~{field_var(fruit=\"Tomato\", loc=1)}'\n",
    "# Add these sentences to the KB \n",
    "kb.tell(expr(sentence1))\n",
    "kb.tell(expr(sentence2))\n",
    "kb.tell(expr(sentence3))\n",
    "\n",
    "# Formalize the sentence\n",
    "# 'if grape is in cell 2 and Tomato is not in cell 1, then Berries is in cell 1\n",
    "sentence4 = f'{field_var(fruit=\"Grape\", loc=2)}&~{field_var(fruit=\"Tomato\", loc=1)}==>{field_var(fruit=\"Berries\", loc=1)}'\n",
    "print(sentence4)\n",
    "# Add this sentence to the KB\n",
    "kb.tell(expr(sentence4))\n",
    "\n",
    "# We can now 'ask' the knowledge base whether Berries is in cell 1\n",
    "kb.ask(expr(field_var(fruit=\"Berries\", loc=1)))"
   ]
  },
  {
   "cell_type": "markdown",
   "metadata": {},
   "source": [
    "## Important note\n",
    "If something is _undefined_ in your knowledge base, or if the inference fails, `kb.ask` will always return `False`.\n",
    "Similarly, if you have _contradictory_ knowledge in your knowledge base, `kb.ask` will always return `True`.\n",
    "Therefore, make sure that you define your knowledge base properly.\n",
    "\n",
    "The following example shows how an incorrectly defined knowledge base can lead to problems:"
   ]
  },
  {
   "cell_type": "code",
   "execution_count": null,
   "metadata": {},
   "outputs": [],
   "source": [
    "# Create a new, empty knowledge base:\n",
    "kb = KB()\n",
    "\n",
    "# Add the sentence 'If Grape is in cell 1 then Carrot is in cell 2'\n",
    "sentence = f'{field_var(fruit=\"Grape\", loc=1)}==>{field_var(fruit=\"Carrot\", loc=2)}'\n",
    "kb.tell(expr(sentence))\n",
    "\n",
    "# If you do not tell the knowledge base that grape is in cell 1, both of the following will return False:\n",
    "print(kb.ask(expr(field_var(fruit=\"Grape\", loc=1))))\n",
    "print(kb.ask(expr(f'~{field_var(fruit=\"Carrot\", loc=2)}')))\n",
    "\n",
    "# Undefined sentences will also always yield false\n",
    "print(kb.ask(expr(f'~{field_var(fruit=\"Tomato\", loc=1)}')))"
   ]
  },
  {
   "cell_type": "code",
   "execution_count": null,
   "metadata": {},
   "outputs": [],
   "source": [
    "# If you add contradictory knowledge into the kb ...\n",
    "# Berries is in cell 1 and Berries is not in cell 1\n",
    "sentence2 = field_var(fruit=\"Berries\", loc=1)\n",
    "sentence3 = f'~{field_var(fruit=\"Berries\", loc=1)}'\n",
    "kb.tell(expr(sentence2))\n",
    "kb.tell(expr(sentence3))\n",
    "\n",
    "# ... both of the following will return True:\n",
    "print(kb.ask(expr(field_var(fruit=\"Berries\", loc=1))))\n",
    "print(kb.ask(expr(f'~{field_var(fruit=\"Berries\", loc=1)}')))"
   ]
  },
  {
   "cell_type": "markdown",
   "metadata": {},
   "source": [
    "## Generating your knowledge base"
   ]
  },
  {
   "cell_type": "markdown",
   "metadata": {},
   "source": [
    "For this exercise, you are required to generate the sentences that solve Organic Order. These sentences will then be added to the knowledge base. Here is what this could look like. This is only an example, and you need to implement your own knowledge base later on!"
   ]
  },
  {
   "cell_type": "markdown",
   "metadata": {},
   "source": [
    "In addition to the initial layout, a set of rules are also provided and must be used for inference. The possible rules and their corresponding classes are:\n",
    "\n",
    "- **NextToConstraint**: A must be next to B\n",
    "- **NotNextToConstraint**: A cannot be next to B\n",
    "- **ToTheRightConstraint**: A must be next to and right of B\n",
    "- **ToTheLeftConstraint**: A must be next to and left of B\n",
    "- **EitherOrConstraint**: A or B must be in position x\n",
    "- **IfThenConstraint**: If A is in position x, then B must be in position y\n",
    "- **IfThenNotNextToConstraint**: If A is left to B, then A cannot be next to C\n",
    "\n",
    "Where A, B, C are fruits/vegetables and x, y are cells/positions in `range(1, len(layout) + 1)`\n",
    "\n",
    "For each of these rules, a dataclass is defined in **rules.py**, and each class has a function `formalize()` that you should implement.\n",
    "The output of the function should be a list of expressions that must be added into the knowledge base.\n",
    "**Do not change the signature of** `formalize()` **or add new members variables to the class.**\n",
    "Defining helper functions inside the classes is fine though.\n",
    "\n",
    "The initialization of a rule object takes 2 to 4 arguments depending on its definition, in the following code snippet you will see some examples."
   ]
  },
  {
   "cell_type": "code",
   "execution_count": null,
   "metadata": {},
   "outputs": [],
   "source": [
    "# Example usage:\n",
    "# Rule1: (Tomato) must be next to (Carrot)\n",
    "rule1 = NextToConstraint(\"Tomato\", \"Carrot\")\n",
    "\n",
    "# Rule2: (Grape) must be to the right of (Carrot)\n",
    "rule2 = ToTheRightConstraint(\"Grape\", \"Carrot\")\n",
    "\n",
    "# Rule3: If (Peas) is left to (Grape), then (Peas) cannot be next to (Berries)\n",
    "rule3 = IfThenNotNextToConstraint(\"Peas\", \"Grape\", \"Berries\")\n",
    "\n",
    "# Rule4: (Corn) or (Grape) must be in position 2\n",
    "rule4 = EitherOrConstraint(\"Corn\", \"Grape\", 2)\n",
    "\n",
    "# Rule5: If (Grape) is in position 3, then (Tomato) must be in position 1\n",
    "rule5 = IfThenConstraint(\"Grape\", 3, \"Tomato\", 1)"
   ]
  },
  {
   "cell_type": "markdown",
   "metadata": {},
   "source": [
    "The `formalize()` methods for the above mentioned rules take an argument called `layout_size`, this has to be given since doing inference on different layout sizes with the same rule will result in different knowledge bases."
   ]
  },
  {
   "cell_type": "code",
   "execution_count": null,
   "metadata": {},
   "outputs": [],
   "source": [
    "# call formalize() to do inference based on the rule\n",
    "print(rule1.formalize(layout_size=5))"
   ]
  },
  {
   "cell_type": "markdown",
   "metadata": {},
   "source": [
    "## Your Task\n",
    "\n",
    "Implement the ``formalize()`` methods in **rules.py**. They should set up the initial knowledge as well as logic of each rule.\n",
    "\n",
    "Please do not import any additional modules or packages, otherwise your solution will be marked as failed. This exercise is easily solvable without any additional packages.\n",
    "\n",
    "Other than the rules mentioned above, there are two more implicit rules that ensure the following boundary conditions:\n",
    "- **OnePlantPerCellConstraint**: At most one plant can occupy one cell\n",
    "- **OneCellPerPlantConstraint**: Each plant type must occur exactly once\n",
    "Both of these rules store all fruits that can occur in the puzzle in the list `fruit_types`.\n",
    "\n",
    "Moreover, you need to respect the initial fruit layout. This is handled via the rule\n",
    "- **InitialLayoutConstraint**: The initial layout must be respected\n",
    "You have to ensure that the already placed fruits stay in their designated spot.\n",
    "\n",
    "In case you want to create and test further configurations, the parameters of `generate_knowledge()` are:\n",
    "- **init_layout**: a list representing the initial assignment of the plants, for example: `['*','Carrot','Tomato','*', '*']`\n",
    "- **rule_list**: list of rules in the form of dataclasses, for example: `[EitherOrConstraint(\"Peas\", \"Tomato\", 1), NotNextToConstraint(\"Carrot\", \"Tomato\", 3)]`\n",
    "- **to_be_assigned**: a list of plants that need to go in the empty cells, for example: `['Peas','Grape','Berries']`\n",
    "\n",
    "<div class=\"alert alert-danger\">\n",
    "    <p>Modify only the formalize() methods in rules.py, changes to other files will be ignored by the tests on Artemis. Also, do not change the signature of the formalize() methods or add new member variables to the rule classes. Defining helper functions inside the classes is fine though.</p>\n",
    "</div>"
   ]
  },
  {
   "cell_type": "code",
   "execution_count": null,
   "metadata": {},
   "outputs": [],
   "source": [
    "# # for debugging\n",
    "# for sentence in generate_knowledge(init_layout, rule_list, to_be_assigned):\n",
    "#    print(sentence)"
   ]
  },
  {
   "cell_type": "markdown",
   "metadata": {},
   "source": [
    "# Running the Algorithm\n",
    "\n"
   ]
  },
  {
   "cell_type": "markdown",
   "metadata": {},
   "source": [
    "To test your solution, choose an initial configuration by modifying `conf_index`, the configurations 1 to 4 are general tests while configurations 5 - 11 are specific to each of the rules. Check `configurations.py` for more details.\n",
    "\n",
    "**Note: The evaluation runtime of your solution depends heavily on the size of your knowledge base, but it should take no more than two minutes for each of your solutions. Otherwise, you can check whether you can remove some of the expressions to speed up the inference process, while still ensuring completeness.**"
   ]
  },
  {
   "cell_type": "code",
   "execution_count": 3,
   "metadata": {},
   "outputs": [
    {
     "name": "stdout",
     "output_type": "stream",
     "text": [
      "feed knowledge base with knowledge..\n",
      "scan knowledge base for contradictions..\n",
      "start inference..\n",
      "Your solution is:\n",
      "[WARNING] You didn't assign a fruit to position 2.\n",
      "Tomato | * | Peas | Carrot | Grape\n",
      "The actual solution is:\n",
      "Berries | Tomato | Peas | Carrot | Grape\n"
     ]
    }
   ],
   "source": [
    "# Create an empty knowledge base, and fill it with your knowledge base\n",
    "kb = KB()\n",
    "\n",
    "print(\"feed knowledge base with knowledge..\")\n",
    "for str_expr in generate_knowledge(init_layout, rule_list, to_be_assigned):\n",
    "    kb.tell(expr(str_expr))\n",
    "\n",
    "# check if the knowledge base is obviously wrong (you can remove this if it is too slow)\n",
    "print(\"scan knowledge base for contradictions..\")\n",
    "assert not kb.has_contradicting_knowledge()\n",
    "\n",
    "print(\"start inference..\")\n",
    "layout_solution = ask_solution(kb)\n",
    "\n",
    "print(\"Your solution is:\")\n",
    "draw_solution(init_layout, layout_solution)\n",
    "print(\"The actual solution is:\")\n",
    "draw_solution(init_layout, exact_solution)"
   ]
  },
  {
   "cell_type": "code",
   "execution_count": null,
   "metadata": {},
   "outputs": [],
   "source": []
  },
  {
   "cell_type": "code",
   "execution_count": null,
   "metadata": {},
   "outputs": [],
   "source": []
  }
 ],
 "metadata": {
  "kernelspec": {
   "display_name": "Python 3 (ipykernel)",
   "language": "python",
   "name": "python3"
  },
  "language_info": {
   "codemirror_mode": {
    "name": "ipython",
    "version": 3
   },
   "file_extension": ".py",
   "mimetype": "text/x-python",
   "name": "python",
   "nbconvert_exporter": "python",
   "pygments_lexer": "ipython3",
   "version": "3.10.4"
  },
  "vscode": {
   "interpreter": {
    "hash": "ad2bdc8ecc057115af97d19610ffacc2b4e99fae6737bb82f5d7fb13d2f2c186"
   }
  }
 },
 "nbformat": 4,
 "nbformat_minor": 4
}
