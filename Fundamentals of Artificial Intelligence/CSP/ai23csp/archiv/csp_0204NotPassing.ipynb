{
 "cells": [
  {
   "cell_type": "markdown",
   "id": "e9675f9a",
   "metadata": {},
   "source": [
    "# Programming Exercise 2: Constraint Satisfaction Problem"
   ]
  },
  {
   "cell_type": "markdown",
   "id": "8f92f3ed",
   "metadata": {},
   "source": [
    "## Your task\n",
    "This programming exercise is comprised of two parts: \n",
    "1) Demo notebook (`csp_demo.ipynb`): a demonstration on how to use the solver powered by the aima-python project to solve basic constraint satisfaction problems.\n",
    "   \n",
    "2) **This Exercise notebook (`csp.ipynb`): notebook to implement and submit your solution for the CSP programming exercise \"Traveling around the World\"**\n",
    "\n"
   ]
  },
  {
   "cell_type": "markdown",
   "id": "a8742a5c",
   "metadata": {},
   "source": [
    "**Programming Framework**:\n",
    "\n",
    "For this programming exercise, Jupyter Notebooks will be used. The template for the exercise can be\n",
    "found in ARTEMIS. Since you have to model the constraint satisfaction problem, programming skills in\n",
    "Python lambdas, lists and dictionaries are necessary to complete this exercise.\n",
    "An example of how to model a constraint satisfaction problem using the AIMA is provided in the notebook **csp\\_demo.ipynb**. This example is taken from Exercise 3.4. \n",
    "\n",
    "The following steps are required to correctly set up the environment for the programming exercise and submission:\n",
    "1. **Installation of AIMA**: Work through [AIMA installation instructions on Moodle](https://www.moodle.tum.de/mod/page/view.php?id=2323882) (Using Docker is recommended for beginners)\n",
    "2. **ARTEMIS**: Log into [ARTEMIS](https://artemis.ase.in.tum.de/courses/222/exercises) with your TUM credentials. Find the exercise *Constraint Satisfaction Problems* and follow the installation and submission instructions.\n",
    "\n",
    "After completing the above steps, you are all set up to start with the exercise. **The main function of\n",
    "the template is the Jupyter Notebook csp.ipynb.** Your task is to model the water sports organization problem.\n",
    "\n",
    "**A pass will be awarded only if:**\n",
    "1. you submitted the **correct file** with the **correct name**, as shown above.\n",
    "2. you **did not zip** your file.\n",
    "3. you **pushed your files to your ARTEMIS branch.**\n",
    "4. you **did not change the variable names** provided by us within the template.\n",
    "5. your submitted files can be run in a Docker/Anaconda environment (Python 3.7 at least) with the packages provided by the requirements.txt in the aima repository, the utils.py, the search.py and the csp_programming_exercise.py\n",
    "provided by us **within a reasonable time (under 5 minutes).**\n",
    "6. the problem has been modeled correctly using the NaryCSP class from the module\n",
    "csp programming exercise.\n",
    "7. similar to the other programming exercises, this is an individual project and you **must** finish the task on your own. (We will use a plagiarism detection tool and any copied code will annul all bonus exercises\n",
    "from both the copier and the copied person!)\n",
    "\n",
    "Submission will close on <b><font color='red'>Friday, 15.12.2023 at 23:59</font></b>. Your solution will be graded by ARTEMIS.\n",
    "There will be feedback on formatting errors and rightly solved CSP. Nonetheless, it is very important to\n",
    "follow the instructions exactly!\n",
    "\n",
    "We offer preliminary checks of your solution and ARTEMIS will show your progress. You can submit\n",
    "your solution multiple times and get feedback for each submission. Your final submission will be checked.\n",
    "We award 1 point if all checks including **the plagiarism check** pass.\n",
    "                                                                                         \n",
    "\n",
    "\n",
    "<div class=\"alert alert-info\">\n",
    "    <h3>Please read the following important information before starting with the programming exercise: </h3>\n",
    "    <p>In order to avoid problems with the relative file path we recommend to <b>place all provided files</b> in the root folder of your <b>aima repository</b>, if you use Anaconda environment.</p> \n",
    "    <p>Do not use/install any additional packages, which are not provided in the requirements.txt of the  <b>aima repository</b>. </p>\n",
    "    <p>For modeling the constraint satisfaction problem you will have to define some variables. <b>Do not change the names of variables that we provided you!</b> Since we use these variables for an automatic evaluation, changing variable names will result in failing the programming exercise. </p>\n",
    "    <p><b>Do not modify</b> the example with the TWO + TWO = FOUR problem!</p>\n",
    "    <p><b>Do not modify</b> the csp_programming_exercise.py!</p>\n",
    "    <p>If we are not able to run your submitted files in an environment with the packages provided by the requirements.txt of the <b>aima repository</b>, you will fail the programming exercise.</p>\n",
    "    \n",
    "</div>"
   ]
  },
  {
   "cell_type": "markdown",
   "id": "aef0029e",
   "metadata": {},
   "source": [
    "**Task Description**:\n",
    "\n",
    "Eight TUM students (Adam, Bella, Charlie, David, Emily, Fiona, George and Helen) are\n",
    "planning to travel around the world during the Christmas holiday. There are five available destinations,\n",
    "namely Barcelona, Beijing, New York City (NYC), Paris and Rome. You need to help them\n",
    "decide which cities to travel to."
   ]
  },
  {
   "cell_type": "markdown",
   "id": "26f7c28f",
   "metadata": {},
   "source": [
    "<img src=\"Cities.png\" height=100>\n"
   ]
  },
  {
   "cell_type": "markdown",
   "id": "987de817",
   "metadata": {},
   "source": [
    "Relevant information about the cities is listed below:\n",
    "\n",
    "\n",
    "|City| Price of  the flight ticktet(€) | \n",
    "|--- |-----------------|\n",
    "|European cities | 100            | \n",
    "|Beijing         | 300         |\n",
    "|New York City | 350          | \n",
    "\n",
    "   Table 1: The prices of fight ticket from Munich to other cities\n",
    "\n",
    "|Categories|Cities|\n",
    "|----|------------|\n",
    "|European cities |Paris, Rome, Barcelona|\n",
    "|Cities famous for Skyscrapers |Beijing, NYC|\n",
    "|Cities famous for their Coast |NYC, Barcelona |\n",
    "|Old Cities |Beijing, Rome          |\n",
    "|Luxurious Cities|Paris, NYC|\n",
    "|Cities famous for their museums|Paris, Barcelona, NYC|\n",
    "\n",
    "Table 2: Categories of cities\n",
    "\n",
    "\n",
    "Note: Every student can travel to at most 1 city.\n",
    "\n",
    "\n",
    "\n",
    "Now consider the following constraints:\n"
   ]
  },
  {
   "cell_type": "markdown",
   "id": "b49e51fc",
   "metadata": {},
   "source": [
    "#### Constraints:\n",
    "\n",
    "1. Adam and Bella are good friends, so they want to travel together.\n",
    "2. George and Helen do not like each other, so they don't want to travel together.\n",
    "3. The flight to Beijing only has 3 tickets left.\n",
    "4. Charlie wants to travel with either David or Bella, otherwise he will not travel at all.\n",
    "5. Emily and Fiona want to travel outside of Europe.\n",
    "6. Adam, Bella, Charlie, George, and Helen want to travel to Europe.\n",
    "7. Fiona wants to travel to an old city, but not to a city with skyscrapers.\n",
    "8. Each city should be visited at least once.\n",
    "9. Bella and Helen want to visit a coastal city together, otherwise they will not travel.\n",
    "10. At least 3 people should visit Barcelona.\n",
    "11. Adam wants to either visit a luxurious city or a Non-European city.\n",
    "12. George does not want to visit Paris.\n",
    "13. No one wants to visit old places.\n",
    "14. Charlie and David either want to go to the coast or to museums together.\n",
    "15. No more than 5 people should travel outside of Europe.\n",
    "16. The budget for the flight is 1500 Euro."
   ]
  },
  {
   "cell_type": "markdown",
   "id": "51236db1",
   "metadata": {},
   "source": [
    "Model the constraint satisfaction problem in Python. For each of the following subsets of constraints, find the solution, if it exists:\n",
    "\n",
    "Problem 2.1: { 2 - 4, 6, 7, 9 - 12, 14 - 16}\\\n",
    "Problem 2.2: { 1 - 5, 9 - 15 }\\\n",
    "Problem 2.3: { 1 - 3, 5, 7, 11, 12, 16 } \\\n",
    "Problem 2.4: { 1, 4, 5, 10 - 16 }\\\n",
    "Problem 2.5: { 2, 3, 6 - 9, 11, 12 }\\\n",
    "Problem 2.6: { 2, 6, 8 - 12, 14, 15 }\n",
    "\n",
    "Note that not all problems can be satisfied."
   ]
  },
  {
   "cell_type": "markdown",
   "id": "1485091f",
   "metadata": {},
   "source": [
    "### Initialization"
   ]
  },
  {
   "cell_type": "code",
   "execution_count": 1,
   "id": "6f0c6521",
   "metadata": {},
   "outputs": [],
   "source": [
    "# Do not change this part.\n",
    "import warnings\n",
    "warnings.filterwarnings('ignore')\n",
    "\n",
    "import sys\n",
    "import pathlib\n",
    "sys.path.append(pathlib.Path().absolute())\n",
    "from csp_programming_exercise import *"
   ]
  },
  {
   "cell_type": "markdown",
   "id": "2890ffe4",
   "metadata": {},
   "source": [
    "### Constructing the Domain"
   ]
  },
  {
   "cell_type": "code",
   "execution_count": 2,
   "id": "8279f61a",
   "metadata": {},
   "outputs": [],
   "source": [
    "# Define your domain here\n",
    "### YOUR CODE HERE ###\n",
    "domains_travel = {'A': [\"Barcelona\", \"Beijing\", \"NYC\", \"Paris\", \"Rome\", \"Home\"],\n",
    "                 'B': [\"Barcelona\", \"Beijing\", \"NYC\", \"Paris\", \"Rome\", \"Home\"],\n",
    "                 'C': [\"Barcelona\", \"Beijing\", \"NYC\", \"Paris\", \"Rome\", \"Home\"],\n",
    "                 'D': [\"Barcelona\", \"Beijing\", \"NYC\", \"Paris\", \"Rome\", \"Home\"],\n",
    "                 'E': [\"Barcelona\", \"Beijing\", \"NYC\", \"Paris\", \"Rome\", \"Home\"],\n",
    "                 'F': [\"Barcelona\", \"Beijing\", \"NYC\", \"Paris\", \"Rome\", \"Home\"],\n",
    "                 'G': [\"Barcelona\", \"Beijing\", \"NYC\", \"Paris\", \"Rome\", \"Home\"],\n",
    "                 'H': [\"Barcelona\", \"Beijing\", \"NYC\", \"Paris\", \"Rome\", \"Home\"]\n",
    "                 }"
   ]
  },
  {
   "cell_type": "markdown",
   "id": "4028d936",
   "metadata": {},
   "source": [
    "### Constructing the Constraints: Organizing Trips"
   ]
  },
  {
   "cell_type": "code",
   "execution_count": 8,
   "id": "f7f1a570",
   "metadata": {},
   "outputs": [],
   "source": [
    "# Define your constraints here\n",
    "### YOUR CODE HERE ###\n",
    "const_1 = Constraint(('A', 'B'), lambda a, b: a == b and a != \"Home\")\n",
    "const_2 = Constraint(('G', 'H'), lambda g, h: g != h)\n",
    "const_3 = Constraint(('A', 'B', 'C', 'D', 'E', 'F', 'G', 'H'), lambda a, b, c, d, e, f, g, h:\n",
    "                    [a, b, c, d, e, f, g, h].count(\"Beijing\") <= 3)\n",
    "const_4 = Constraint(('B', 'C', 'D'), lambda b, c, d: c == b or c == d or c == \"Home\")\n",
    "const_5 = Constraint(('E', 'F'), lambda e, f: {e, f} == {\"Beijing\", \"NYC\"})\n",
    "const_6 = Constraint(('A', 'B', 'C', 'G', 'H'), lambda a, b, c, g, h: {a, b, c, g, h} == {\"Barcelona\", \"Paris\", \"Rome\"})\n",
    "const_7 = Constraint(('F'), lambda f: f == \"Rome\")\n",
    "const_8 = Constraint(('A', 'B', 'C', 'D', 'E', 'F', 'G', 'H'), lambda a, b, c, d, e, f, g, h: \n",
    "                     {a, b, c, d, e, f, g, h} == {\"Barcelona\", \"Beijing\", \"NYC\", \"Paris\", \"Rome\", \"Home\"}\n",
    "                    or {a, b, c, d, e, f, g, h} == {\"Barcelona\", \"Beijing\", \"NYC\", \"Paris\", \"Rome\"})\n",
    "const_9 = Constraint(('B', 'H'), lambda b, h: b == h and (b in {\"Barcelona\", \"NYC\", \"Home\"}))\n",
    "const_10 = Constraint(('A', 'B', 'C', 'D', 'E', 'F', 'G', 'H'), lambda a, b, c, d, e, f, g, h:\n",
    "                    [a, b, c, d, e, f, g, h].count(\"Barcelona\") >= 3)\n",
    "const_11 = Constraint(('A'), lambda a: a in {\"Beijing\", \"NYC\", \"Paris\"})\n",
    "const_12 = Constraint(('G'), lambda g: g != \"Paris\")\n",
    "const_13 = Constraint(('A', 'B', 'C', 'D', 'E', 'F', 'G', 'H'), lambda a, b, c, d, e, f, g, h: (\"Beijing\" not in {a, b, c, d, e, f, g, h}) \n",
    "                      and (\"Rome\" not in {a, b, c, d, e, f, g, h}))\n",
    "const_14 = Constraint(('C', 'D'), lambda c, d: c == d and (c in {\"Barcelona\", \"NYC\", \"Paris\"}))\n",
    "const_15 = Constraint(('A', 'B', 'C', 'D', 'E', 'F', 'G', 'H'), lambda a, b, c, d, e, f, g, h:\n",
    "                     [a, b, c, d, e, f, g, h].count(\"Beijing\") + [a, b, c, d, e, f, g, h].count(\"NYC\") <= 5)\n",
    "const_16 = Constraint(('A', 'B', 'C', 'D', 'E', 'F', 'G', 'H'), lambda a, b, c, d, e, f, g, h:\n",
    "                     (([a, b, c, d, e, f, g, h].count(\"Barcelona\") + [a, b, c, d, e, f, g, h].count(\"Paris\") + [a, b, c, d, e, f, g, h].count(\"Rome\")) * 100 \n",
    "                      + [a, b, c, d, e, f, g, h].count(\"Beijing\") * 300 \n",
    "                      + [a, b, c, d, e, f, g, h].count(\"NYC\") * 350) <= 1500)"
   ]
  },
  {
   "cell_type": "markdown",
   "id": "a3f9a927",
   "metadata": {},
   "source": [
    "### Combine the constraints and set up the CSPs for the different problems\n",
    "<div class=\"alert alert-danger\">\n",
    "    <p>The variables csp_1, csp_2, csp_3, csp_4, csp_5,csp_6 are defined for setting up the CSPs for the corresponding problems. <b>You have to use these variable names otherwise this will result in failing the programming exercise.</b></p> \n",
    "</div>"
   ]
  },
  {
   "cell_type": "code",
   "execution_count": 9,
   "id": "1bdfabba",
   "metadata": {},
   "outputs": [],
   "source": [
    "# Construct the Organizing Water Sports Problems\n",
    "\n",
    "# Combine Constraints and set up the csp for Problem 2.1\n",
    "### YOUR CODE HERE ###\n",
    "csp_1 = None\n",
    "csp_1_constraints = [const_2, const_3, const_4, const_6, const_7, const_9, const_10, const_11, const_12, const_14, const_15, const_16]\n",
    "csp_1 = NaryCSP(domains_travel, csp_1_constraints)\n",
    "\n",
    "\n",
    "# Combine Constraints and set up the csp for Problem 2.2\n",
    "### YOUR CODE HERE ###\n",
    "csp_2 = None\n",
    "csp_2_constraints = [const_1, const_2, const_3, const_4, const_5, const_9, const_10, const_11, const_12, const_13, const_14, const_15]\n",
    "csp_2 = NaryCSP(domains_travel, csp_2_constraints)\n",
    "\n",
    "\n",
    "# Combine Constraints and set up the csp for Problem 2.3\n",
    "### YOUR CODE HERE ###\n",
    "csp_3 = None\n",
    "csp_3_constraints = [const_1, const_2, const_3, const_5, const_7, const_11, const_12, const_16]\n",
    "csp_3 = NaryCSP(domains_travel, csp_3_constraints)\n",
    "\n",
    "\n",
    "# Combine Constraints and set up the csp for Problem 2.4\n",
    "### YOUR CODE HERE ###\n",
    "csp_4 = None\n",
    "csp_4_constraints = [const_1, const_4, const_5, const_10, const_11, const_12, const_13, const_14, const_15, const_16]\n",
    "csp_4 = NaryCSP(domains_travel, csp_4_constraints)\n",
    "\n",
    "\n",
    "# Combine Constraints and set up the csp for Problem 2.5\n",
    "### YOUR CODE HERE ###\n",
    "csp_5 = None\n",
    "csp_5_constraints = [const_2, const_3, const_6, const_7, const_8, const_9, const_11, const_12]\n",
    "csp_5 = NaryCSP(domains_travel, csp_5_constraints)\n",
    "\n",
    "\n",
    "# Combine Constraints and set up the csp for Problem 2.6\n",
    "### YOUR CODE HERE ###\n",
    "csp_6 = None\n",
    "csp_6_constraints = [const_2, const_6, const_8, const_9, const_10, const_11, const_12, const_14, const_15]\n",
    "csp_6 = NaryCSP(domains_travel, csp_6_constraints)"
   ]
  },
  {
   "cell_type": "markdown",
   "id": "58c47699",
   "metadata": {},
   "source": [
    "### Solving the CSP\n",
    "<div class=\"alert alert-danger\">\n",
    "    <p>Do not change the following cell. If you can't execute the following cell, you may have renamed the variables defined by us.</p> \n",
    "</div>"
   ]
  },
  {
   "cell_type": "code",
   "execution_count": 10,
   "id": "a2a6e153",
   "metadata": {
    "pycharm": {
     "is_executing": true
    }
   },
   "outputs": [
    {
     "name": "stdout",
     "output_type": "stream",
     "text": [
      "{'A': 'Paris', 'B': 'Barcelona', 'C': 'Barcelona', 'D': 'Barcelona', 'E': 'Beijing', 'F': 'Rome', 'G': 'Rome', 'H': 'Barcelona'}\n",
      "None\n",
      "None\n",
      "None\n",
      "{'A': 'Paris', 'B': 'Barcelona', 'C': 'Rome', 'D': 'Beijing', 'E': 'NYC', 'F': 'Rome', 'G': 'Rome', 'H': 'Barcelona'}\n",
      "{'A': 'Paris', 'B': 'Barcelona', 'C': 'Barcelona', 'D': 'Barcelona', 'E': 'Beijing', 'F': 'NYC', 'G': 'Rome', 'H': 'Barcelona'}\n"
     ]
    }
   ],
   "source": [
    "# Do not change this part\n",
    "print(ac_search_solver(csp_1))\n",
    "print(ac_search_solver(csp_2))\n",
    "print(ac_search_solver(csp_3))\n",
    "print(ac_search_solver(csp_4))\n",
    "print(ac_search_solver(csp_5))\n",
    "print(ac_search_solver(csp_6))"
   ]
  },
  {
   "cell_type": "code",
   "execution_count": null,
   "id": "86d87bdf",
   "metadata": {},
   "outputs": [],
   "source": []
  }
 ],
 "metadata": {
  "kernelspec": {
   "display_name": "Python 3 (ipykernel)",
   "language": "python",
   "name": "python3"
  },
  "language_info": {
   "codemirror_mode": {
    "name": "ipython",
    "version": 3
   },
   "file_extension": ".py",
   "mimetype": "text/x-python",
   "name": "python",
   "nbconvert_exporter": "python",
   "pygments_lexer": "ipython3",
   "version": "3.10.4"
  },
  "vscode": {
   "interpreter": {
    "hash": "ad2bdc8ecc057115af97d19610ffacc2b4e99fae6737bb82f5d7fb13d2f2c186"
   }
  }
 },
 "nbformat": 4,
 "nbformat_minor": 5
}
